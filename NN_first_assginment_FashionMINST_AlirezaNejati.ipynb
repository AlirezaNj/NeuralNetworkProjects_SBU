{
  "nbformat": 4,
  "nbformat_minor": 0,
  "metadata": {
    "colab": {
      "provenance": [],
      "collapsed_sections": []
    },
    "kernelspec": {
      "name": "python3",
      "display_name": "Python 3"
    },
    "language_info": {
      "name": "python"
    }
  },
  "cells": [
    {
      "cell_type": "markdown",
      "source": [
        "### Importing necessary libraries"
      ],
      "metadata": {
        "id": "Kc7ePO6Kvrom"
      }
    },
    {
      "cell_type": "code",
      "execution_count": 164,
      "metadata": {
        "id": "eTC8u0esnYSo"
      },
      "outputs": [],
      "source": [
        "import torch\n",
        "import torch.nn as nn\n",
        "import torch.nn.functional as F\n",
        "from torch import optim\n",
        "from torch.utils.data import Dataset, DataLoader\n",
        "from torch.utils.data.sampler import SubsetRandomSampler\n",
        "\n",
        "import torchvision\n",
        "from torchvision import datasets\n",
        "from torchvision import transforms\n",
        "\n",
        "import numpy as np\n",
        "import pandas as pd\n",
        "import matplotlib.pyplot as plt"
      ]
    },
    {
      "cell_type": "markdown",
      "source": [
        "### Download datasets and Transform images"
      ],
      "metadata": {
        "id": "Czu0KhLfv0dd"
      }
    },
    {
      "cell_type": "markdown",
      "source": [
        "I get the FashionMINST image data from the source. Then I split 20% of train-set as validation-set. \n",
        "The batch size is 100 that means 100 samples per batch to load."
      ],
      "metadata": {
        "id": "0cjTV2gAzq6A"
      }
    },
    {
      "cell_type": "code",
      "source": [
        "transform = transforms.Compose([transforms.ToTensor()])\n",
        "trainset = datasets.FashionMNIST(\"./data\", download = True, train = True, transform = transform)\n",
        "testset = datasets.FashionMNIST(\"./data\", download = True, train = False, transform = transform)\n",
        "\n",
        "indexes = list(range(len(trainset)))\n",
        "np.random.shuffle(indexes)\n",
        "split_size = int(np.floor(0.2 * len(trainset)))\n",
        "train_sample = SubsetRandomSampler(indexes[:split_size])\n",
        "valid_sample = SubsetRandomSampler(indexes[split_size:])\n",
        "\n",
        "trainloader = DataLoader(trainset, sampler = train_sample, batch_size = 100)\n",
        "validloader = DataLoader(trainset, sampler = valid_sample, batch_size = 100)\n",
        "testloader = DataLoader(testset, batch_size = 100, shuffle = True)"
      ],
      "metadata": {
        "id": "NTqftKCVqYUc"
      },
      "execution_count": 165,
      "outputs": []
    },
    {
      "cell_type": "markdown",
      "source": [
        "### Visualize a Batch of Training Data"
      ],
      "metadata": {
        "id": "Mc4JaH6XwXGz"
      }
    },
    {
      "cell_type": "markdown",
      "source": [
        "To see some images and their labels from train dataset I use matplotlib."
      ],
      "metadata": {
        "id": "CNnlsmzo2FFa"
      }
    },
    {
      "cell_type": "code",
      "source": [
        "label_names = [\"T-shirt/top\", \"Trouser\", \"Pullover\", \"Dress\", \"Coat\",\n",
        "               \"Sandal\", \"Shirt\", \"Sneaker\", \"Bag\", \"Ankle boot\"]\n",
        "images, labels = iter(trainloader).next()\n",
        "fig = plt.figure(figsize=(10,5))\n",
        "for i in range(10):\n",
        "    ax = plt.subplot(2, 5, i+1)\n",
        "    plt.imshow(np.squeeze(images[i]), cmap = 'gray')\n",
        "    ax.set_title(str(labels[i].item())+' - '+label_names[labels[i].item()])\n",
        "    ax.get_xaxis().set_visible(False)\n",
        "    ax.get_yaxis().set_visible(False)\n",
        "\n",
        "plt.show()"
      ],
      "metadata": {
        "colab": {
          "base_uri": "https://localhost:8080/",
          "height": 295
        },
        "id": "heZAPqVR1YAk",
        "outputId": "aeab1d65-6a09-4a8a-e56a-194b2a5260b2"
      },
      "execution_count": 166,
      "outputs": [
        {
          "output_type": "display_data",
          "data": {
            "text/plain": [
              "<Figure size 720x360 with 10 Axes>"
            ],
            "image/png": "[encoded data removed]"
          },
          "metadata": {
            "needs_background": "light"
          }
        }
      ]
    },
    {
      "cell_type": "markdown",
      "source": [
        "## Define the Network Architecture, train the network and test the trained model"
      ],
      "metadata": {
        "id": "gtuB-4SSwzgc"
      }
    },
    {
      "cell_type": "markdown",
      "source": [
        "### Define the train and test methods"
      ],
      "metadata": {
        "id": "DaSfd9WXxV-m"
      }
    },
    {
      "cell_type": "markdown",
      "source": [
        "This method will train the model. Forward and backward phases are implemented. At the end, train loss and validation loss are printed for each epoch."
      ],
      "metadata": {
        "id": "nl-jXHbB2i27"
      }
    },
    {
      "cell_type": "code",
      "source": [
        "def MLP_train(n_epochs, model, optimizer, criterion, early_stopper = None):\n",
        "  model.train()\n",
        "  \n",
        "  for epoch in range(n_epochs):\n",
        "    train_loss = 0.0\n",
        "    valid_loss = 0.0\n",
        "    for data, target in trainloader:\n",
        "        optimizer.zero_grad()\n",
        "        output = model(data)\n",
        "        loss = criterion(output, target)\n",
        "        loss.backward()\n",
        "        optimizer.step()\n",
        "        train_loss += loss.item()*data.size(0)\n",
        "    for data, target in validloader:\n",
        "        output = model(data)\n",
        "        loss = criterion(output, target)\n",
        "        valid_loss += loss.item()*data.size(0)\n",
        "    \n",
        "    train_loss = train_loss/len(trainloader.sampler)\n",
        "    valid_loss = valid_loss/len(validloader.sampler)\n",
        "\n",
        "    print('Epoch {} ---> Training Loss: {:.4f} \\tValidation Loss: {:.4f}'.format(epoch + 1, train_loss, valid_loss))\n",
        "    \n",
        "    if(early_stopper):\n",
        "      if early_stopper.early_stop(valid_loss): \n",
        "        print('Train stopped at epoch {}'.format(epoch+1))\n",
        "        break\n"
      ],
      "metadata": {
        "id": "7iD32R7C-e2k"
      },
      "execution_count": 185,
      "outputs": []
    },
    {
      "cell_type": "markdown",
      "source": [
        "Test the traind model with test dataset and report the accuracy for each class and overall accuracy."
      ],
      "metadata": {
        "id": "6fZ7PHWN4MbS"
      }
    },
    {
      "cell_type": "code",
      "source": [
        "def MLP_test(model, criterion):\n",
        "  model.eval()\n",
        "\n",
        "  class_correct = list(0. for i in range(10))\n",
        "  class_total = list(0. for i in range(10))\n",
        "\n",
        "  test_loss = 0.0\n",
        "  for data, target in testloader:\n",
        "      output = model(data)\n",
        "      loss = criterion(output, target)\n",
        "      test_loss += loss.item()*data.size(0)\n",
        "      pred = output.argmax(1)\n",
        "      correct = np.squeeze(pred.eq(target.data.view_as(pred)))\n",
        "      for i in range(64):\n",
        "          label = target.data[i]\n",
        "          class_correct[label] += correct[i].item()\n",
        "          class_total[label] += 1\n",
        "\n",
        "  test_loss = test_loss/len(testloader.dataset)\n",
        "  print('Test Loss: {:.6f}\\n'.format(test_loss))\n",
        "\n",
        "  for i in range(10):\n",
        "      if class_total[i] > 0:\n",
        "          print('Test Accuracy of %5s: %2d%% (%2d/%2d)' % (\n",
        "              str(i), 100 * class_correct[i] / class_total[i],\n",
        "              np.sum(class_correct[i]), np.sum(class_total[i])))\n",
        "          \n",
        "  print('\\nTest Accuracy (Overall): %2d%% (%2d/%2d)' % (\n",
        "      100. * np.sum(class_correct) / np.sum(class_total),\n",
        "      np.sum(class_correct), np.sum(class_total)))"
      ],
      "metadata": {
        "id": "adVh1tAjQsGU"
      },
      "execution_count": 2,
      "outputs": []
    },
    {
      "cell_type": "markdown",
      "source": [
        "### Neural Network with one hidden layer"
      ],
      "metadata": {
        "id": "xT7fENaMx0en"
      }
    },
    {
      "cell_type": "markdown",
      "source": [
        "I start with a network that has one hidden layer. The input layer has 28 * 28 nuerons. becaus images have 28 * 28 pixels. I use ReLu as activation function and softmax for output layer."
      ],
      "metadata": {
        "id": "Vb83oaZu5ayx"
      }
    },
    {
      "cell_type": "code",
      "source": [
        "class NueralNetwork(nn.Module):\n",
        "    def __init__(self):\n",
        "        super(NueralNetwork, self).__init__()\n",
        "        self.fc1 = nn.Linear(28 * 28, 256)\n",
        "        self.fc2 = nn.Linear(256, 64)\n",
        "        self.fc3 = nn.Linear(64, 10)\n",
        "\n",
        "    def forward(self, x):\n",
        "        x = x.view(x.shape[0], -1)\n",
        "        x = F.relu(self.fc1(x))\n",
        "        x = F.relu(self.fc2(x))\n",
        "        x = F.log_softmax(self.fc3(x), dim = 1)\n",
        "        return x"
      ],
      "metadata": {
        "id": "yZCPWyADNQDi"
      },
      "execution_count": 213,
      "outputs": []
    },
    {
      "cell_type": "markdown",
      "source": [
        "I train this simple model using:\n",
        "30 epochs, SGD optimizer, learning rate = 0.01 and crossEntropy as loss function. You can see the result of training by train losses per epochs. "
      ],
      "metadata": {
        "id": "mxNSxzB37WbN"
      }
    },
    {
      "cell_type": "code",
      "source": [
        "n_epochs = 30\n",
        "model = NueralNetwork()\n",
        "optimizer = optim.SGD(model.parameters(), lr = 0.01)\n",
        "criterion = nn.CrossEntropyLoss()\n",
        "\n",
        "MLP_train(n_epochs, model, optimizer, criterion)"
      ],
      "metadata": {
        "colab": {
          "base_uri": "https://localhost:8080/"
        },
        "id": "UpA501BoQm1S",
        "outputId": "4b23f8cc-7022-401d-8b0e-46b7649da04b"
      },
      "execution_count": 225,
      "outputs": [
        {
          "output_type": "stream",
          "name": "stdout",
          "text": [
            "Epoch 1 ---> Training Loss: 2.2625 \tValidation Loss: 2.2089\n",
            "Epoch 2 ---> Training Loss: 2.1102 \tValidation Loss: 1.9683\n",
            "Epoch 3 ---> Training Loss: 1.7661 \tValidation Loss: 1.5655\n",
            "Epoch 4 ---> Training Loss: 1.4079 \tValidation Loss: 1.2786\n",
            "Epoch 5 ---> Training Loss: 1.1782 \tValidation Loss: 1.1047\n",
            "Epoch 6 ---> Training Loss: 1.0355 \tValidation Loss: 0.9965\n",
            "Epoch 7 ---> Training Loss: 0.9427 \tValidation Loss: 0.9195\n",
            "Epoch 8 ---> Training Loss: 0.8777 \tValidation Loss: 0.8684\n",
            "Epoch 9 ---> Training Loss: 0.8300 \tValidation Loss: 0.8225\n",
            "Epoch 10 ---> Training Loss: 0.7922 \tValidation Loss: 0.7905\n",
            "Epoch 11 ---> Training Loss: 0.7599 \tValidation Loss: 0.7655\n",
            "Epoch 12 ---> Training Loss: 0.7337 \tValidation Loss: 0.7408\n",
            "Epoch 13 ---> Training Loss: 0.7110 \tValidation Loss: 0.7188\n",
            "Epoch 14 ---> Training Loss: 0.6902 \tValidation Loss: 0.6996\n",
            "Epoch 15 ---> Training Loss: 0.6718 \tValidation Loss: 0.6811\n",
            "Epoch 16 ---> Training Loss: 0.6537 \tValidation Loss: 0.6709\n",
            "Epoch 17 ---> Training Loss: 0.6381 \tValidation Loss: 0.6510\n",
            "Epoch 18 ---> Training Loss: 0.6222 \tValidation Loss: 0.6414\n",
            "Epoch 19 ---> Training Loss: 0.6106 \tValidation Loss: 0.6328\n",
            "Epoch 20 ---> Training Loss: 0.5981 \tValidation Loss: 0.6130\n",
            "Epoch 21 ---> Training Loss: 0.5862 \tValidation Loss: 0.6145\n",
            "Epoch 22 ---> Training Loss: 0.5763 \tValidation Loss: 0.5933\n",
            "Epoch 23 ---> Training Loss: 0.5646 \tValidation Loss: 0.5820\n",
            "Epoch 24 ---> Training Loss: 0.5553 \tValidation Loss: 0.5779\n",
            "Epoch 25 ---> Training Loss: 0.5463 \tValidation Loss: 0.5677\n",
            "Epoch 26 ---> Training Loss: 0.5362 \tValidation Loss: 0.5621\n",
            "Epoch 27 ---> Training Loss: 0.5308 \tValidation Loss: 0.5561\n",
            "Epoch 28 ---> Training Loss: 0.5224 \tValidation Loss: 0.5454\n",
            "Epoch 29 ---> Training Loss: 0.5152 \tValidation Loss: 0.5611\n",
            "Epoch 30 ---> Training Loss: 0.5096 \tValidation Loss: 0.5504\n"
          ]
        }
      ]
    },
    {
      "cell_type": "markdown",
      "source": [
        "I reach 80% accuracy as a first try!"
      ],
      "metadata": {
        "id": "sVeyO-Sv-Ih9"
      }
    },
    {
      "cell_type": "code",
      "source": [
        "MLP_test(model, criterion)"
      ],
      "metadata": {
        "colab": {
          "base_uri": "https://localhost:8080/"
        },
        "id": "Q1KNzAQ2qnlo",
        "outputId": "a893cfed-0401-490a-83c3-065477b903a6"
      },
      "execution_count": 236,
      "outputs": [
        {
          "output_type": "stream",
          "name": "stdout",
          "text": [
            "Test Loss: 0.570205\n",
            "\n",
            "Test Accuracy of     0: 81% (521/642)\n",
            "Test Accuracy of     1: 94% (599/636)\n",
            "Test Accuracy of     2: 56% (367/646)\n",
            "Test Accuracy of     3: 85% (550/646)\n",
            "Test Accuracy of     4: 88% (578/656)\n",
            "Test Accuracy of     5: 88% (549/620)\n",
            "Test Accuracy of     6: 29% (187/624)\n",
            "Test Accuracy of     7: 90% (584/644)\n",
            "Test Accuracy of     8: 93% (600/644)\n",
            "Test Accuracy of     9: 92% (593/642)\n",
            "\n",
            "Test Accuracy (Overall): 80% (5128/6400)\n"
          ]
        }
      ]
    },
    {
      "cell_type": "markdown",
      "source": [
        "### Using dropout technique"
      ],
      "metadata": {
        "id": "OXAjGRqh-s5X"
      }
    },
    {
      "cell_type": "code",
      "source": [
        "class NueralNetwork1(nn.Module):\n",
        "    def __init__(self):\n",
        "        super(NueralNetwork, self).__init__()\n",
        "        self.fc1 = nn.Linear(28 * 28, 256)\n",
        "        self.fc2 = nn.Linear(256, 64)\n",
        "        self.fc3 = nn.Linear(64, 10)\n",
        "        self.dropout = nn.Dropout(0.2)\n",
        "\n",
        "    def forward(self, x):\n",
        "        x = x.view(x.shape[0], -1)\n",
        "        x = self.dropout(F.relu(self.fc1(x)))\n",
        "        x = self.dropout(F.relu(self.fc2(x)))\n",
        "        x = F.log_softmax(self.fc3(x), dim = 1)\n",
        "        return x"
      ],
      "metadata": {
        "id": "PZCpl2u_AZOW"
      },
      "execution_count": 237,
      "outputs": []
    },
    {
      "cell_type": "code",
      "source": [
        "model1 = NueralNetwork()\n",
        "optimizer1 = optim.SGD(model1.parameters(), lr = 0.01)\n",
        "\n",
        "MLP_train(n_epochs, model1, optimizer1, criterion)"
      ],
      "metadata": {
        "colab": {
          "base_uri": "https://localhost:8080/"
        },
        "id": "nHC8cGWnNwqc",
        "outputId": "06d5d897-0890-4445-d50f-e20d63091859"
      },
      "execution_count": 238,
      "outputs": [
        {
          "output_type": "stream",
          "name": "stdout",
          "text": [
            "Epoch 1 ---> Training Loss: 2.2563 \tValidation Loss: 2.1940\n",
            "Epoch 2 ---> Training Loss: 2.0742 \tValidation Loss: 1.9173\n",
            "Epoch 3 ---> Training Loss: 1.7206 \tValidation Loss: 1.5370\n",
            "Epoch 4 ---> Training Loss: 1.3862 \tValidation Loss: 1.2666\n",
            "Epoch 5 ---> Training Loss: 1.1648 \tValidation Loss: 1.0931\n",
            "Epoch 6 ---> Training Loss: 1.0233 \tValidation Loss: 0.9846\n",
            "Epoch 7 ---> Training Loss: 0.9299 \tValidation Loss: 0.9111\n",
            "Epoch 8 ---> Training Loss: 0.8670 \tValidation Loss: 0.8560\n",
            "Epoch 9 ---> Training Loss: 0.8215 \tValidation Loss: 0.8211\n",
            "Epoch 10 ---> Training Loss: 0.7860 \tValidation Loss: 0.7899\n",
            "Epoch 11 ---> Training Loss: 0.7584 \tValidation Loss: 0.7624\n",
            "Epoch 12 ---> Training Loss: 0.7347 \tValidation Loss: 0.7445\n",
            "Epoch 13 ---> Training Loss: 0.7142 \tValidation Loss: 0.7200\n",
            "Epoch 14 ---> Training Loss: 0.6941 \tValidation Loss: 0.7070\n",
            "Epoch 15 ---> Training Loss: 0.6765 \tValidation Loss: 0.6941\n",
            "Epoch 16 ---> Training Loss: 0.6594 \tValidation Loss: 0.6752\n",
            "Epoch 17 ---> Training Loss: 0.6437 \tValidation Loss: 0.6557\n",
            "Epoch 18 ---> Training Loss: 0.6303 \tValidation Loss: 0.6436\n",
            "Epoch 19 ---> Training Loss: 0.6156 \tValidation Loss: 0.6266\n",
            "Epoch 20 ---> Training Loss: 0.6004 \tValidation Loss: 0.6151\n",
            "Epoch 21 ---> Training Loss: 0.5891 \tValidation Loss: 0.6105\n",
            "Epoch 22 ---> Training Loss: 0.5766 \tValidation Loss: 0.6000\n",
            "Epoch 23 ---> Training Loss: 0.5654 \tValidation Loss: 0.5819\n",
            "Epoch 24 ---> Training Loss: 0.5543 \tValidation Loss: 0.5741\n",
            "Epoch 25 ---> Training Loss: 0.5456 \tValidation Loss: 0.5725\n",
            "Epoch 26 ---> Training Loss: 0.5357 \tValidation Loss: 0.5642\n",
            "Epoch 27 ---> Training Loss: 0.5290 \tValidation Loss: 0.5516\n",
            "Epoch 28 ---> Training Loss: 0.5197 \tValidation Loss: 0.5449\n",
            "Epoch 29 ---> Training Loss: 0.5122 \tValidation Loss: 0.5362\n",
            "Epoch 30 ---> Training Loss: 0.5061 \tValidation Loss: 0.5325\n"
          ]
        }
      ]
    },
    {
      "cell_type": "code",
      "source": [
        "MLP_test(model1, criterion)"
      ],
      "metadata": {
        "colab": {
          "base_uri": "https://localhost:8080/"
        },
        "id": "vJCYbVJ6N6ld",
        "outputId": "bc635390-9ba8-4ac5-ffd7-716035890085"
      },
      "execution_count": 239,
      "outputs": [
        {
          "output_type": "stream",
          "name": "stdout",
          "text": [
            "Test Loss: 0.553782\n",
            "\n",
            "Test Accuracy of     0: 78% (499/636)\n",
            "Test Accuracy of     1: 93% (620/660)\n",
            "Test Accuracy of     2: 62% (404/649)\n",
            "Test Accuracy of     3: 83% (512/614)\n",
            "Test Accuracy of     4: 75% (495/655)\n",
            "Test Accuracy of     5: 84% (529/627)\n",
            "Test Accuracy of     6: 52% (322/618)\n",
            "Test Accuracy of     7: 89% (573/643)\n",
            "Test Accuracy of     8: 92% (598/648)\n",
            "Test Accuracy of     9: 93% (609/650)\n",
            "\n",
            "Test Accuracy (Overall): 80% (5161/6400)\n"
          ]
        }
      ]
    },
    {
      "cell_type": "markdown",
      "source": [
        "*Using dropout technique didn't change the accuracy of this model.*"
      ],
      "metadata": {
        "id": "GOyoFYVLFlmN"
      }
    },
    {
      "cell_type": "markdown",
      "source": [
        "### Neural Network with two hidden layers"
      ],
      "metadata": {
        "id": "ki6Fxubp-dPQ"
      }
    },
    {
      "cell_type": "markdown",
      "source": [
        "Add a hidden layer to the network and see the result."
      ],
      "metadata": {
        "id": "jGC6KG7l-Qv3"
      }
    },
    {
      "cell_type": "code",
      "source": [
        "class NueralNetwork2(nn.Module):\n",
        "    def __init__(self):\n",
        "        super(NueralNetwork2, self).__init__()\n",
        "        self.fc1 = nn.Linear(28 * 28, 256)\n",
        "        self.fc2 = nn.Linear(256, 128)\n",
        "        self.fc3 = nn.Linear(128, 64)\n",
        "        self.fc4 = nn.Linear(64, 10)\n",
        "        self.dropout = nn.Dropout(0.2)\n",
        "\n",
        "    def forward(self, x):\n",
        "        x = x.view(x.shape[0], -1)\n",
        "        x = self.dropout(F.relu(self.fc1(x)))\n",
        "        x = self.dropout(F.relu(self.fc2(x)))\n",
        "        x = self.dropout(F.relu(self.fc3(x)))\n",
        "        x = F.log_softmax(self.fc4(x), dim = 1)\n",
        "        return x"
      ],
      "metadata": {
        "id": "Ejz9GZB3A0nJ"
      },
      "execution_count": 240,
      "outputs": []
    },
    {
      "cell_type": "code",
      "source": [
        "model2 = NueralNetwork2()\n",
        "optimizer2 = optim.SGD(model2.parameters(), lr = 0.01)\n",
        "\n",
        "MLP_train(n_epochs, model2, optimizer2, criterion)"
      ],
      "metadata": {
        "colab": {
          "base_uri": "https://localhost:8080/"
        },
        "id": "ATCYLnbFCHMw",
        "outputId": "48ec01b5-2454-4e9a-c439-7a6f75e47325"
      },
      "execution_count": 243,
      "outputs": [
        {
          "output_type": "stream",
          "name": "stdout",
          "text": [
            "Epoch 1 ---> Training Loss: 2.2965 \tValidation Loss: 2.2883\n",
            "Epoch 2 ---> Training Loss: 2.2753 \tValidation Loss: 2.2598\n",
            "Epoch 3 ---> Training Loss: 2.2312 \tValidation Loss: 2.1936\n",
            "Epoch 4 ---> Training Loss: 2.1233 \tValidation Loss: 2.0370\n",
            "Epoch 5 ---> Training Loss: 1.9035 \tValidation Loss: 1.7562\n",
            "Epoch 6 ---> Training Loss: 1.6140 \tValidation Loss: 1.5061\n",
            "Epoch 7 ---> Training Loss: 1.4182 \tValidation Loss: 1.3635\n",
            "Epoch 8 ---> Training Loss: 1.3016 \tValidation Loss: 1.2653\n",
            "Epoch 9 ---> Training Loss: 1.2123 \tValidation Loss: 1.1856\n",
            "Epoch 10 ---> Training Loss: 1.1371 \tValidation Loss: 1.1207\n",
            "Epoch 11 ---> Training Loss: 1.0848 \tValidation Loss: 1.0732\n",
            "Epoch 12 ---> Training Loss: 1.0298 \tValidation Loss: 1.0273\n",
            "Epoch 13 ---> Training Loss: 0.9899 \tValidation Loss: 0.9906\n",
            "Epoch 14 ---> Training Loss: 0.9596 \tValidation Loss: 0.9638\n",
            "Epoch 15 ---> Training Loss: 0.9258 \tValidation Loss: 0.9373\n",
            "Epoch 16 ---> Training Loss: 0.9040 \tValidation Loss: 0.9094\n",
            "Epoch 17 ---> Training Loss: 0.8787 \tValidation Loss: 0.8887\n",
            "Epoch 18 ---> Training Loss: 0.8609 \tValidation Loss: 0.8671\n",
            "Epoch 19 ---> Training Loss: 0.8372 \tValidation Loss: 0.8490\n",
            "Epoch 20 ---> Training Loss: 0.8265 \tValidation Loss: 0.8352\n",
            "Epoch 21 ---> Training Loss: 0.8066 \tValidation Loss: 0.8231\n",
            "Epoch 22 ---> Training Loss: 0.7932 \tValidation Loss: 0.8056\n",
            "Epoch 23 ---> Training Loss: 0.7763 \tValidation Loss: 0.7885\n",
            "Epoch 24 ---> Training Loss: 0.7573 \tValidation Loss: 0.7777\n",
            "Epoch 25 ---> Training Loss: 0.7492 \tValidation Loss: 0.7666\n",
            "Epoch 26 ---> Training Loss: 0.7422 \tValidation Loss: 0.7558\n",
            "Epoch 27 ---> Training Loss: 0.7238 \tValidation Loss: 0.7446\n",
            "Epoch 28 ---> Training Loss: 0.7161 \tValidation Loss: 0.7324\n",
            "Epoch 29 ---> Training Loss: 0.7067 \tValidation Loss: 0.7217\n",
            "Epoch 30 ---> Training Loss: 0.6999 \tValidation Loss: 0.7146\n"
          ]
        }
      ]
    },
    {
      "cell_type": "code",
      "source": [
        "MLP_test(model2, criterion)"
      ],
      "metadata": {
        "colab": {
          "base_uri": "https://localhost:8080/"
        },
        "id": "GmkU5lytCZux",
        "outputId": "9b494aeb-ab91-4ffb-c42c-8b43aeed49a5"
      },
      "execution_count": 244,
      "outputs": [
        {
          "output_type": "stream",
          "name": "stdout",
          "text": [
            "Test Loss: 0.652566\n",
            "\n",
            "Test Accuracy of     0: 82% (524/633)\n",
            "Test Accuracy of     1: 94% (581/614)\n",
            "Test Accuracy of     2: 63% (404/636)\n",
            "Test Accuracy of     3: 82% (533/647)\n",
            "Test Accuracy of     4: 72% (452/626)\n",
            "Test Accuracy of     5: 76% (486/639)\n",
            "Test Accuracy of     6: 14% (92/640)\n",
            "Test Accuracy of     7: 87% (575/658)\n",
            "Test Accuracy of     8: 91% (595/649)\n",
            "Test Accuracy of     9: 95% (630/658)\n",
            "\n",
            "Test Accuracy (Overall): 76% (4872/6400)\n"
          ]
        }
      ]
    },
    {
      "cell_type": "markdown",
      "source": [
        "for this problem model with one hidden layer is better than two layer model.\n",
        "adding layer increase the complexity of model that not required for this problem."
      ],
      "metadata": {
        "id": "STe0XAZNHOK_"
      }
    },
    {
      "cell_type": "markdown",
      "source": [
        "### Neural Network with three hidden layers"
      ],
      "metadata": {
        "id": "jc6G1Ph6GuCi"
      }
    },
    {
      "cell_type": "markdown",
      "source": [
        "try three hidden layers model to see effect of adding another layer."
      ],
      "metadata": {
        "id": "kw3esFcsHqtr"
      }
    },
    {
      "cell_type": "code",
      "source": [
        "class NueralNetwork3(nn.Module):\n",
        "    def __init__(self):\n",
        "        super(NueralNetwork3, self).__init__()\n",
        "        self.fc1 = nn.Linear(28 * 28, 256)\n",
        "        self.fc2 = nn.Linear(256, 128)\n",
        "        self.fc3 = nn.Linear(128, 64)\n",
        "        self.fc4 = nn.Linear(64, 32)\n",
        "        self.fc5 = nn.Linear(32, 10)\n",
        "        self.dropout = nn.Dropout(0.2)\n",
        "\n",
        "    def forward(self, x):\n",
        "        x = x.view(x.shape[0], -1)\n",
        "        x = self.dropout(F.relu(self.fc1(x)))\n",
        "        x = self.dropout(F.relu(self.fc2(x)))\n",
        "        x = self.dropout(F.relu(self.fc3(x)))\n",
        "        x = self.dropout(F.relu(self.fc4(x)))\n",
        "        x = F.log_softmax(self.fc5(x), dim = 1)\n",
        "        return x"
      ],
      "metadata": {
        "id": "7KL3CIr9Cp09"
      },
      "execution_count": 245,
      "outputs": []
    },
    {
      "cell_type": "code",
      "source": [
        "model3 = NueralNetwork3()\n",
        "optimizer3 = optim.SGD(model3.parameters(), lr = 0.01)\n",
        "\n",
        "MLP_train(n_epochs, model3, optimizer3, criterion)"
      ],
      "metadata": {
        "colab": {
          "base_uri": "https://localhost:8080/"
        },
        "id": "sAfBD3qdLez-",
        "outputId": "3605d3dc-0fd3-4712-959a-bdf35863af65"
      },
      "execution_count": 246,
      "outputs": [
        {
          "output_type": "stream",
          "name": "stdout",
          "text": [
            "Epoch 1 ---> Training Loss: 2.3089 \tValidation Loss: 2.3069\n",
            "Epoch 2 ---> Training Loss: 2.3044 \tValidation Loss: 2.3030\n",
            "Epoch 3 ---> Training Loss: 2.3007 \tValidation Loss: 2.2993\n",
            "Epoch 4 ---> Training Loss: 2.2967 \tValidation Loss: 2.2952\n",
            "Epoch 5 ---> Training Loss: 2.2920 \tValidation Loss: 2.2898\n",
            "Epoch 6 ---> Training Loss: 2.2858 \tValidation Loss: 2.2820\n",
            "Epoch 7 ---> Training Loss: 2.2754 \tValidation Loss: 2.2685\n",
            "Epoch 8 ---> Training Loss: 2.2559 \tValidation Loss: 2.2403\n",
            "Epoch 9 ---> Training Loss: 2.2116 \tValidation Loss: 2.1721\n",
            "Epoch 10 ---> Training Loss: 2.1020 \tValidation Loss: 2.0149\n",
            "Epoch 11 ---> Training Loss: 1.9161 \tValidation Loss: 1.8110\n",
            "Epoch 12 ---> Training Loss: 1.7242 \tValidation Loss: 1.6404\n",
            "Epoch 13 ---> Training Loss: 1.5727 \tValidation Loss: 1.5114\n",
            "Epoch 14 ---> Training Loss: 1.4510 \tValidation Loss: 1.4050\n",
            "Epoch 15 ---> Training Loss: 1.3507 \tValidation Loss: 1.3288\n",
            "Epoch 16 ---> Training Loss: 1.2868 \tValidation Loss: 1.2742\n",
            "Epoch 17 ---> Training Loss: 1.2349 \tValidation Loss: 1.2309\n",
            "Epoch 18 ---> Training Loss: 1.2009 \tValidation Loss: 1.2011\n",
            "Epoch 19 ---> Training Loss: 1.1690 \tValidation Loss: 1.1675\n",
            "Epoch 20 ---> Training Loss: 1.1321 \tValidation Loss: 1.1468\n",
            "Epoch 21 ---> Training Loss: 1.1036 \tValidation Loss: 1.1190\n",
            "Epoch 22 ---> Training Loss: 1.0948 \tValidation Loss: 1.0953\n",
            "Epoch 23 ---> Training Loss: 1.0648 \tValidation Loss: 1.0777\n",
            "Epoch 24 ---> Training Loss: 1.0469 \tValidation Loss: 1.0572\n",
            "Epoch 25 ---> Training Loss: 1.0302 \tValidation Loss: 1.0372\n",
            "Epoch 26 ---> Training Loss: 1.0128 \tValidation Loss: 1.0269\n",
            "Epoch 27 ---> Training Loss: 0.9936 \tValidation Loss: 1.0115\n",
            "Epoch 28 ---> Training Loss: 0.9788 \tValidation Loss: 1.0028\n",
            "Epoch 29 ---> Training Loss: 0.9726 \tValidation Loss: 0.9874\n",
            "Epoch 30 ---> Training Loss: 0.9545 \tValidation Loss: 0.9817\n"
          ]
        }
      ]
    },
    {
      "cell_type": "code",
      "source": [
        "MLP_test(model3, criterion)"
      ],
      "metadata": {
        "colab": {
          "base_uri": "https://localhost:8080/"
        },
        "id": "RIHiVRidLiJD",
        "outputId": "9bed777c-aa46-4bfa-c3f2-1563aad745ac"
      },
      "execution_count": 247,
      "outputs": [
        {
          "output_type": "stream",
          "name": "stdout",
          "text": [
            "Test Loss: 0.877245\n",
            "\n",
            "Test Accuracy of     0: 77% (478/618)\n",
            "Test Accuracy of     1: 91% (584/635)\n",
            "Test Accuracy of     2: 71% (462/650)\n",
            "Test Accuracy of     3: 62% (397/633)\n",
            "Test Accuracy of     4: 36% (227/627)\n",
            "Test Accuracy of     5: 38% (242/626)\n",
            "Test Accuracy of     6:  8% (53/636)\n",
            "Test Accuracy of     7: 84% (565/666)\n",
            "Test Accuracy of     8: 91% (602/656)\n",
            "Test Accuracy of     9: 93% (613/653)\n",
            "\n",
            "Test Accuracy (Overall): 65% (4223/6400)\n"
          ]
        }
      ]
    },
    {
      "cell_type": "markdown",
      "source": [
        "As I said adding layers would not help to improve the accuracy of the model in this problem."
      ],
      "metadata": {
        "id": "Mikr3VHqIg6c"
      }
    },
    {
      "cell_type": "markdown",
      "source": [
        "### Using early stopping criteria"
      ],
      "metadata": {
        "id": "Gz-QLsDxIDMz"
      }
    },
    {
      "cell_type": "code",
      "source": [
        "class EarlyStopper:\n",
        "    def __init__(self, patience=1, min_delta=0):\n",
        "        self.patience = patience\n",
        "        self.min_delta = min_delta\n",
        "        self.counter = 0\n",
        "        self.min_validation_loss = np.inf\n",
        "\n",
        "    def early_stop(self, validation_loss):\n",
        "        if validation_loss < self.min_validation_loss:\n",
        "            self.min_validation_loss = validation_loss\n",
        "            self.counter = 0\n",
        "        elif validation_loss > (self.min_validation_loss + self.min_delta):\n",
        "            self.counter += 1\n",
        "            if self.counter >= self.patience:\n",
        "                return True\n",
        "        return False"
      ],
      "metadata": {
        "id": "g5xRfPCKMjs5"
      },
      "execution_count": 248,
      "outputs": []
    },
    {
      "cell_type": "code",
      "source": [
        "model = NueralNetwork()\n",
        "optimizer = optim.SGD(model.parameters(), lr = 0.01)\n",
        "\n",
        "early_stopper = EarlyStopper(patience = 2)\n",
        "MLP_train(40, model, optimizer, criterion, early_stopper)"
      ],
      "metadata": {
        "colab": {
          "base_uri": "https://localhost:8080/"
        },
        "id": "VHGG7dM3SDgI",
        "outputId": "ff52c48d-fd8e-4329-905b-f9c7a9749a9f"
      },
      "execution_count": 249,
      "outputs": [
        {
          "output_type": "stream",
          "name": "stdout",
          "text": [
            "Epoch 1 ---> Training Loss: 2.2688 \tValidation Loss: 2.2185\n",
            "Epoch 2 ---> Training Loss: 2.1325 \tValidation Loss: 2.0080\n",
            "Epoch 3 ---> Training Loss: 1.8103 \tValidation Loss: 1.5975\n",
            "Epoch 4 ---> Training Loss: 1.4196 \tValidation Loss: 1.2794\n",
            "Epoch 5 ---> Training Loss: 1.1751 \tValidation Loss: 1.0992\n",
            "Epoch 6 ---> Training Loss: 1.0295 \tValidation Loss: 0.9853\n",
            "Epoch 7 ---> Training Loss: 0.9338 \tValidation Loss: 0.9108\n",
            "Epoch 8 ---> Training Loss: 0.8681 \tValidation Loss: 0.8569\n",
            "Epoch 9 ---> Training Loss: 0.8196 \tValidation Loss: 0.8101\n",
            "Epoch 10 ---> Training Loss: 0.7822 \tValidation Loss: 0.7807\n",
            "Epoch 11 ---> Training Loss: 0.7519 \tValidation Loss: 0.7584\n",
            "Epoch 12 ---> Training Loss: 0.7258 \tValidation Loss: 0.7335\n",
            "Epoch 13 ---> Training Loss: 0.7031 \tValidation Loss: 0.7113\n",
            "Epoch 14 ---> Training Loss: 0.6825 \tValidation Loss: 0.6899\n",
            "Epoch 15 ---> Training Loss: 0.6626 \tValidation Loss: 0.6730\n",
            "Epoch 16 ---> Training Loss: 0.6454 \tValidation Loss: 0.6546\n",
            "Epoch 17 ---> Training Loss: 0.6289 \tValidation Loss: 0.6402\n",
            "Epoch 18 ---> Training Loss: 0.6120 \tValidation Loss: 0.6233\n",
            "Epoch 19 ---> Training Loss: 0.5992 \tValidation Loss: 0.6125\n",
            "Epoch 20 ---> Training Loss: 0.5849 \tValidation Loss: 0.6130\n",
            "Epoch 21 ---> Training Loss: 0.5723 \tValidation Loss: 0.5879\n",
            "Epoch 22 ---> Training Loss: 0.5610 \tValidation Loss: 0.5840\n",
            "Epoch 23 ---> Training Loss: 0.5508 \tValidation Loss: 0.5705\n",
            "Epoch 24 ---> Training Loss: 0.5394 \tValidation Loss: 0.5621\n",
            "Epoch 25 ---> Training Loss: 0.5308 \tValidation Loss: 0.5561\n",
            "Epoch 26 ---> Training Loss: 0.5238 \tValidation Loss: 0.5540\n",
            "Epoch 27 ---> Training Loss: 0.5153 \tValidation Loss: 0.5451\n",
            "Epoch 28 ---> Training Loss: 0.5092 \tValidation Loss: 0.5311\n",
            "Epoch 29 ---> Training Loss: 0.4997 \tValidation Loss: 0.5341\n",
            "Epoch 30 ---> Training Loss: 0.4963 \tValidation Loss: 0.5224\n",
            "Epoch 31 ---> Training Loss: 0.4914 \tValidation Loss: 0.5215\n",
            "Epoch 32 ---> Training Loss: 0.4840 \tValidation Loss: 0.5211\n",
            "Epoch 33 ---> Training Loss: 0.4783 \tValidation Loss: 0.5148\n",
            "Epoch 34 ---> Training Loss: 0.4750 \tValidation Loss: 0.5063\n",
            "Epoch 35 ---> Training Loss: 0.4684 \tValidation Loss: 0.5047\n",
            "Epoch 36 ---> Training Loss: 0.4656 \tValidation Loss: 0.4985\n",
            "Epoch 37 ---> Training Loss: 0.4601 \tValidation Loss: 0.4997\n",
            "Epoch 38 ---> Training Loss: 0.4565 \tValidation Loss: 0.4971\n",
            "Epoch 39 ---> Training Loss: 0.4531 \tValidation Loss: 0.4941\n",
            "Epoch 40 ---> Training Loss: 0.4511 \tValidation Loss: 0.4870\n"
          ]
        }
      ]
    },
    {
      "cell_type": "code",
      "source": [
        "MLP_test(model, criterion)"
      ],
      "metadata": {
        "colab": {
          "base_uri": "https://localhost:8080/"
        },
        "id": "m98h7ynpl_wP",
        "outputId": "e7641609-d274-4551-e453-53995fe3795b"
      },
      "execution_count": 250,
      "outputs": [
        {
          "output_type": "stream",
          "name": "stdout",
          "text": [
            "Test Loss: 0.510961\n",
            "\n",
            "Test Accuracy of     0: 81% (518/635)\n",
            "Test Accuracy of     1: 93% (588/627)\n",
            "Test Accuracy of     2: 67% (434/645)\n",
            "Test Accuracy of     3: 83% (530/637)\n",
            "Test Accuracy of     4: 76% (493/648)\n",
            "Test Accuracy of     5: 88% (595/673)\n",
            "Test Accuracy of     6: 56% (360/639)\n",
            "Test Accuracy of     7: 92% (577/624)\n",
            "Test Accuracy of     8: 90% (575/633)\n",
            "Test Accuracy of     9: 94% (605/639)\n",
            "\n",
            "Test Accuracy (Overall): 82% (5275/6400)\n"
          ]
        }
      ]
    },
    {
      "cell_type": "markdown",
      "source": [
        "### Using batch normalization"
      ],
      "metadata": {
        "id": "LSOdQbGXJe4s"
      }
    },
    {
      "cell_type": "code",
      "source": [
        "class NueralNetwork4(nn.Module):\n",
        "    def __init__(self):\n",
        "        super(NueralNetwork, self).__init__()\n",
        "        self.fc1 = nn.Linear(28 * 28, 256)\n",
        "        self.bn1 = nn.BatchNorm1d(256)\n",
        "        self.fc2 = nn.Linear(256, 64)\n",
        "        self.bn2 = nn.BatchNorm1d(64)\n",
        "        self.fc3 = nn.Linear(64, 10)\n",
        "\n",
        "    def forward(self, x):\n",
        "        x = x.view(x.shape[0], -1)\n",
        "        x = F.relu(self.bn1(self.fc1(x)))\n",
        "        x = F.relu(self.bn2(self.fc2(x)))\n",
        "        x = F.log_softmax(self.fc3(x), dim = 1)\n",
        "        return x"
      ],
      "metadata": {
        "id": "o9JXgJdCgPmT"
      },
      "execution_count": 251,
      "outputs": []
    },
    {
      "cell_type": "code",
      "source": [
        "model4 = NueralNetwork()\n",
        "optimizer4 = optim.SGD(model4.parameters(), lr = 0.01)\n",
        "\n",
        "MLP_train(n_epochs, model4, optimizer4, criterion)"
      ],
      "metadata": {
        "colab": {
          "base_uri": "https://localhost:8080/"
        },
        "id": "NiNxXGZ5lgj-",
        "outputId": "fb90becc-874b-4365-abe6-6b2e07502a8e"
      },
      "execution_count": 252,
      "outputs": [
        {
          "output_type": "stream",
          "name": "stdout",
          "text": [
            "Epoch 1 ---> Training Loss: 2.2656 \tValidation Loss: 2.2112\n",
            "Epoch 2 ---> Training Loss: 2.1065 \tValidation Loss: 1.9622\n",
            "Epoch 3 ---> Training Loss: 1.7512 \tValidation Loss: 1.5462\n",
            "Epoch 4 ---> Training Loss: 1.3871 \tValidation Loss: 1.2621\n",
            "Epoch 5 ---> Training Loss: 1.1633 \tValidation Loss: 1.0912\n",
            "Epoch 6 ---> Training Loss: 1.0217 \tValidation Loss: 0.9774\n",
            "Epoch 7 ---> Training Loss: 0.9258 \tValidation Loss: 0.9042\n",
            "Epoch 8 ---> Training Loss: 0.8588 \tValidation Loss: 0.8491\n",
            "Epoch 9 ---> Training Loss: 0.8108 \tValidation Loss: 0.8032\n",
            "Epoch 10 ---> Training Loss: 0.7720 \tValidation Loss: 0.7708\n",
            "Epoch 11 ---> Training Loss: 0.7422 \tValidation Loss: 0.7443\n",
            "Epoch 12 ---> Training Loss: 0.7155 \tValidation Loss: 0.7187\n",
            "Epoch 13 ---> Training Loss: 0.6922 \tValidation Loss: 0.6971\n",
            "Epoch 14 ---> Training Loss: 0.6709 \tValidation Loss: 0.6819\n",
            "Epoch 15 ---> Training Loss: 0.6525 \tValidation Loss: 0.6608\n",
            "Epoch 16 ---> Training Loss: 0.6352 \tValidation Loss: 0.6449\n",
            "Epoch 17 ---> Training Loss: 0.6193 \tValidation Loss: 0.6323\n",
            "Epoch 18 ---> Training Loss: 0.6048 \tValidation Loss: 0.6186\n",
            "Epoch 19 ---> Training Loss: 0.5915 \tValidation Loss: 0.6072\n",
            "Epoch 20 ---> Training Loss: 0.5781 \tValidation Loss: 0.5949\n",
            "Epoch 21 ---> Training Loss: 0.5692 \tValidation Loss: 0.5948\n",
            "Epoch 22 ---> Training Loss: 0.5572 \tValidation Loss: 0.5815\n",
            "Epoch 23 ---> Training Loss: 0.5470 \tValidation Loss: 0.5706\n",
            "Epoch 24 ---> Training Loss: 0.5381 \tValidation Loss: 0.5627\n",
            "Epoch 25 ---> Training Loss: 0.5300 \tValidation Loss: 0.5549\n",
            "Epoch 26 ---> Training Loss: 0.5224 \tValidation Loss: 0.5483\n",
            "Epoch 27 ---> Training Loss: 0.5171 \tValidation Loss: 0.5422\n",
            "Epoch 28 ---> Training Loss: 0.5103 \tValidation Loss: 0.5422\n",
            "Epoch 29 ---> Training Loss: 0.5040 \tValidation Loss: 0.5340\n",
            "Epoch 30 ---> Training Loss: 0.4980 \tValidation Loss: 0.5397\n"
          ]
        }
      ]
    },
    {
      "cell_type": "code",
      "source": [
        "MLP_test(model4, criterion)"
      ],
      "metadata": {
        "id": "zSFjopo0lqP9"
      },
      "execution_count": null,
      "outputs": []
    },
    {
      "cell_type": "code",
      "source": [
        "def MLP_train_regularized(n_epochs, model, optimizer, criterion, regular_type):\n",
        "  model.train()\n",
        "  \n",
        "  for epoch in range(n_epochs):\n",
        "    train_loss = 0.0\n",
        "    valid_loss = 0.0\n",
        "    for data, target in trainloader:\n",
        "        optimizer.zero_grad()\n",
        "        output = model(data)\n",
        "        loss = criterion(output, target)\n",
        "\n",
        "        if(regular_type == 1):\n",
        "          l1_lambda = 0.001\n",
        "          l1_norm = sum(p.abs().sum() for p in model.parameters())\n",
        "          loss = loss + l1_lambda * l1_norm\n",
        "        elif(regular_type == 2):\n",
        "          l2_lambda = 0.001\n",
        "          l2_norm = sum(p.pow(2).sum() for p in model.parameters())\n",
        "          loss = loss + l2_lambda * l2_norm\n",
        "        elif(regular_type == 3):\n",
        "          loss = loss + torch.norm(model.layer.weight, p = 2)\n",
        "\n",
        "        loss.backward()\n",
        "        optimizer.step()\n",
        "        train_loss += loss.item()*data.size(0)\n",
        "    for data, target in validloader:\n",
        "        output = model(data)\n",
        "        loss = criterion(output, target)\n",
        "        valid_loss += loss.item()*data.size(0)\n",
        "    \n",
        "    train_loss = train_loss/len(trainloader.sampler)\n",
        "    valid_loss = valid_loss/len(validloader.sampler)\n",
        "\n",
        "    print('Epoch {} ---> Training Loss: {:.4f} \\tValidation Loss: {:.4f}'.format(epoch + 1, train_loss, valid_loss))"
      ],
      "metadata": {
        "id": "cV0zX9-Jl6Ys"
      },
      "execution_count": 223,
      "outputs": []
    },
    {
      "cell_type": "code",
      "source": [
        "model = NueralNetwork()\n",
        "optimizer = optim.SGD(model.parameters(), lr = 0.01)\n",
        "\n",
        "MLP_train_regularized(n_epochs, model, optimizer, criterion, 1) #L1 regularization"
      ],
      "metadata": {
        "colab": {
          "base_uri": "https://localhost:8080/"
        },
        "id": "kMkVFuYlsEKB",
        "outputId": "540cda51-833e-4b2e-cf9c-18fb23fc22a2"
      },
      "execution_count": 217,
      "outputs": [
        {
          "output_type": "stream",
          "name": "stdout",
          "text": [
            "Epoch 1 ---> Training Loss: 6.2779 \tValidation Loss: 2.2212\n",
            "Epoch 2 ---> Training Loss: 5.9184 \tValidation Loss: 2.0578\n",
            "Epoch 3 ---> Training Loss: 5.4486 \tValidation Loss: 1.7280\n",
            "Epoch 4 ---> Training Loss: 4.8911 \tValidation Loss: 1.3999\n",
            "Epoch 5 ---> Training Loss: 4.4306 \tValidation Loss: 1.1963\n"
          ]
        }
      ]
    },
    {
      "cell_type": "code",
      "source": [
        "MLP_test(model, criterion)"
      ],
      "metadata": {
        "colab": {
          "base_uri": "https://localhost:8080/"
        },
        "id": "nI5bF1ZZs6mi",
        "outputId": "35e76d28-ff14-4a47-e749-3aa96006b664"
      },
      "execution_count": 218,
      "outputs": [
        {
          "output_type": "stream",
          "name": "stdout",
          "text": [
            "Test Loss: 1.202471\n",
            "\n",
            "Test Accuracy of     0: 83% (531/639)\n",
            "Test Accuracy of     1: 90% (581/639)\n",
            "Test Accuracy of     2: 70% (465/657)\n",
            "Test Accuracy of     3: 34% (219/635)\n",
            "Test Accuracy of     4: 33% (215/650)\n",
            "Test Accuracy of     5:  0% ( 6/619)\n",
            "Test Accuracy of     6:  8% (52/640)\n",
            "Test Accuracy of     7: 90% (591/656)\n",
            "Test Accuracy of     8: 90% (579/637)\n",
            "Test Accuracy of     9: 91% (576/628)\n",
            "\n",
            "Test Accuracy (Overall): 59% (3815/6400)\n"
          ]
        }
      ]
    },
    {
      "cell_type": "code",
      "source": [
        "model = NueralNetwork()\n",
        "optimizer = optim.SGD(model.parameters(), lr = 0.01)\n",
        "\n",
        "MLP_train_regularized(n_epochs, model, optimizer, criterion, 2) #L2 regularization"
      ],
      "metadata": {
        "colab": {
          "base_uri": "https://localhost:8080/"
        },
        "id": "5gBIdOAVtcWo",
        "outputId": "2443734b-4548-4d17-8521-cc67e7ac33d7"
      },
      "execution_count": 219,
      "outputs": [
        {
          "output_type": "stream",
          "name": "stdout",
          "text": [
            "Epoch 1 ---> Training Loss: 6.2668 \tValidation Loss: 2.2000\n",
            "Epoch 2 ---> Training Loss: 5.8973 \tValidation Loss: 2.0373\n",
            "Epoch 3 ---> Training Loss: 5.4439 \tValidation Loss: 1.7480\n",
            "Epoch 4 ---> Training Loss: 4.9156 \tValidation Loss: 1.4333\n",
            "Epoch 5 ---> Training Loss: 4.4602 \tValidation Loss: 1.2333\n"
          ]
        }
      ]
    },
    {
      "cell_type": "code",
      "source": [
        "MLP_test(model, criterion)"
      ],
      "metadata": {
        "colab": {
          "base_uri": "https://localhost:8080/"
        },
        "id": "E-z6dNwltjv_",
        "outputId": "777452da-c6b2-4706-f6e0-1b905677c421"
      },
      "execution_count": 220,
      "outputs": [
        {
          "output_type": "stream",
          "name": "stdout",
          "text": [
            "Test Loss: 1.238327\n",
            "\n",
            "Test Accuracy of     0: 81% (519/640)\n",
            "Test Accuracy of     1: 90% (601/661)\n",
            "Test Accuracy of     2: 15% (100/650)\n",
            "Test Accuracy of     3: 36% (219/606)\n",
            "Test Accuracy of     4: 82% (531/640)\n",
            "Test Accuracy of     5:  0% ( 3/645)\n",
            "Test Accuracy of     6:  3% (25/664)\n",
            "Test Accuracy of     7: 92% (592/641)\n",
            "Test Accuracy of     8: 81% (501/616)\n",
            "Test Accuracy of     9: 89% (570/637)\n",
            "\n",
            "Test Accuracy (Overall): 57% (3661/6400)\n"
          ]
        }
      ]
    },
    {
      "cell_type": "code",
      "source": [
        "model = NueralNetwork()\n",
        "optimizer = optim.SGD(model.parameters(), lr = 0.01)\n",
        "\n",
        "MLP_train_regularized(n_epochs, model, optimizer, criterion, 3) #type 3 regularization"
      ],
      "metadata": {
        "colab": {
          "base_uri": "https://localhost:8080/",
          "height": 406
        },
        "id": "atDGFIB9tq0P",
        "outputId": "5cc22f70-d82f-4428-e006-451b0d719860"
      },
      "execution_count": 224,
      "outputs": [
        {
          "output_type": "error",
          "ename": "AttributeError",
          "evalue": "ignored",
          "traceback": [
            "\u001b[0;31m---------------------------------------------------------------------------\u001b[0m",
            "\u001b[0;31mAttributeError\u001b[0m                            Traceback (most recent call last)",
            "\u001b[0;32m<ipython-input-224-80dc45d26e36>\u001b[0m in \u001b[0;36m<module>\u001b[0;34m\u001b[0m\n\u001b[1;32m      2\u001b[0m \u001b[0moptimizer\u001b[0m \u001b[0;34m=\u001b[0m \u001b[0moptim\u001b[0m\u001b[0;34m.\u001b[0m\u001b[0mSGD\u001b[0m\u001b[0;34m(\u001b[0m\u001b[0mmodel\u001b[0m\u001b[0;34m.\u001b[0m\u001b[0mparameters\u001b[0m\u001b[0;34m(\u001b[0m\u001b[0;34m)\u001b[0m\u001b[0;34m,\u001b[0m \u001b[0mlr\u001b[0m \u001b[0;34m=\u001b[0m \u001b[0;36m0.01\u001b[0m\u001b[0;34m)\u001b[0m\u001b[0;34m\u001b[0m\u001b[0;34m\u001b[0m\u001b[0m\n\u001b[1;32m      3\u001b[0m \u001b[0;34m\u001b[0m\u001b[0m\n\u001b[0;32m----> 4\u001b[0;31m \u001b[0mMLP_train_regularized\u001b[0m\u001b[0;34m(\u001b[0m\u001b[0mn_epochs\u001b[0m\u001b[0;34m,\u001b[0m \u001b[0mmodel\u001b[0m\u001b[0;34m,\u001b[0m \u001b[0moptimizer\u001b[0m\u001b[0;34m,\u001b[0m \u001b[0mcriterion\u001b[0m\u001b[0;34m,\u001b[0m \u001b[0;36m3\u001b[0m\u001b[0;34m)\u001b[0m \u001b[0;31m#type 3 regularization\u001b[0m\u001b[0;34m\u001b[0m\u001b[0;34m\u001b[0m\u001b[0m\n\u001b[0m",
            "\u001b[0;32m<ipython-input-223-d7ebef86a0c4>\u001b[0m in \u001b[0;36mMLP_train_regularized\u001b[0;34m(n_epochs, model, optimizer, criterion, regular_type)\u001b[0m\n\u001b[1;32m     19\u001b[0m           \u001b[0mloss\u001b[0m \u001b[0;34m=\u001b[0m \u001b[0mloss\u001b[0m \u001b[0;34m+\u001b[0m \u001b[0ml2_lambda\u001b[0m \u001b[0;34m*\u001b[0m \u001b[0ml2_norm\u001b[0m\u001b[0;34m\u001b[0m\u001b[0;34m\u001b[0m\u001b[0m\n\u001b[1;32m     20\u001b[0m         \u001b[0;32melif\u001b[0m\u001b[0;34m(\u001b[0m\u001b[0mregular_type\u001b[0m \u001b[0;34m==\u001b[0m \u001b[0;36m3\u001b[0m\u001b[0;34m)\u001b[0m\u001b[0;34m:\u001b[0m\u001b[0;34m\u001b[0m\u001b[0;34m\u001b[0m\u001b[0m\n\u001b[0;32m---> 21\u001b[0;31m           \u001b[0mloss\u001b[0m \u001b[0;34m=\u001b[0m \u001b[0mloss\u001b[0m \u001b[0;34m+\u001b[0m \u001b[0mtorch\u001b[0m\u001b[0;34m.\u001b[0m\u001b[0mnorm\u001b[0m\u001b[0;34m(\u001b[0m\u001b[0mmodel\u001b[0m\u001b[0;34m.\u001b[0m\u001b[0mlayer\u001b[0m\u001b[0;34m[\u001b[0m\u001b[0;36m0\u001b[0m\u001b[0;34m]\u001b[0m\u001b[0;34m.\u001b[0m\u001b[0mweight\u001b[0m\u001b[0;34m,\u001b[0m \u001b[0mp\u001b[0m \u001b[0;34m=\u001b[0m \u001b[0;36m2\u001b[0m\u001b[0;34m)\u001b[0m\u001b[0;34m\u001b[0m\u001b[0;34m\u001b[0m\u001b[0m\n\u001b[0m\u001b[1;32m     22\u001b[0m \u001b[0;34m\u001b[0m\u001b[0m\n\u001b[1;32m     23\u001b[0m         \u001b[0mloss\u001b[0m\u001b[0;34m.\u001b[0m\u001b[0mbackward\u001b[0m\u001b[0;34m(\u001b[0m\u001b[0;34m)\u001b[0m\u001b[0;34m\u001b[0m\u001b[0;34m\u001b[0m\u001b[0m\n",
            "\u001b[0;32m/usr/local/lib/python3.7/dist-packages/torch/nn/modules/module.py\u001b[0m in \u001b[0;36m__getattr__\u001b[0;34m(self, name)\u001b[0m\n\u001b[1;32m   1206\u001b[0m                 \u001b[0;32mreturn\u001b[0m \u001b[0mmodules\u001b[0m\u001b[0;34m[\u001b[0m\u001b[0mname\u001b[0m\u001b[0;34m]\u001b[0m\u001b[0;34m\u001b[0m\u001b[0;34m\u001b[0m\u001b[0m\n\u001b[1;32m   1207\u001b[0m         raise AttributeError(\"'{}' object has no attribute '{}'\".format(\n\u001b[0;32m-> 1208\u001b[0;31m             type(self).__name__, name))\n\u001b[0m\u001b[1;32m   1209\u001b[0m \u001b[0;34m\u001b[0m\u001b[0m\n\u001b[1;32m   1210\u001b[0m     \u001b[0;32mdef\u001b[0m \u001b[0m__setattr__\u001b[0m\u001b[0;34m(\u001b[0m\u001b[0mself\u001b[0m\u001b[0;34m,\u001b[0m \u001b[0mname\u001b[0m\u001b[0;34m:\u001b[0m \u001b[0mstr\u001b[0m\u001b[0;34m,\u001b[0m \u001b[0mvalue\u001b[0m\u001b[0;34m:\u001b[0m \u001b[0mUnion\u001b[0m\u001b[0;34m[\u001b[0m\u001b[0mTensor\u001b[0m\u001b[0;34m,\u001b[0m \u001b[0;34m'Module'\u001b[0m\u001b[0;34m]\u001b[0m\u001b[0;34m)\u001b[0m \u001b[0;34m->\u001b[0m \u001b[0;32mNone\u001b[0m\u001b[0;34m:\u001b[0m\u001b[0;34m\u001b[0m\u001b[0;34m\u001b[0m\u001b[0m\n",
            "\u001b[0;31mAttributeError\u001b[0m: 'NueralNetwork' object has no attribute 'layer'"
          ]
        }
      ]
    },
    {
      "cell_type": "code",
      "source": [],
      "metadata": {
        "id": "0h3zQ7dktxXR"
      },
      "execution_count": null,
      "outputs": []
    }
  ]
}